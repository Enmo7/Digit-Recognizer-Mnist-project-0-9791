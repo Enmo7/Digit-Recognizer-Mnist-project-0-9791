{
 "cells": [
  {
   "cell_type": "code",
   "execution_count": 1,
   "id": "673e930d",
   "metadata": {
    "_cell_guid": "b1076dfc-b9ad-4769-8c92-a6c4dae69d19",
    "_uuid": "8f2839f25d086af736a60e9eeb907d3b93b6e0e5",
    "execution": {
     "iopub.execute_input": "2023-04-10T07:56:20.813753Z",
     "iopub.status.busy": "2023-04-10T07:56:20.812702Z",
     "iopub.status.idle": "2023-04-10T07:56:20.826288Z",
     "shell.execute_reply": "2023-04-10T07:56:20.825327Z"
    },
    "papermill": {
     "duration": 0.025899,
     "end_time": "2023-04-10T07:56:20.829081",
     "exception": false,
     "start_time": "2023-04-10T07:56:20.803182",
     "status": "completed"
    },
    "tags": []
   },
   "outputs": [
    {
     "name": "stdout",
     "output_type": "stream",
     "text": [
      "/kaggle/input/digit-recognizer/sample_submission.csv\n",
      "/kaggle/input/digit-recognizer/train.csv\n",
      "/kaggle/input/digit-recognizer/test.csv\n"
     ]
    }
   ],
   "source": [
    "# This Python 3 environment comes with many helpful analytics libraries installed\n",
    "# It is defined by the kaggle/python Docker image: https://github.com/kaggle/docker-python\n",
    "# For example, here's several helpful packages to load\n",
    "\n",
    "import numpy as np # linear algebra\n",
    "import pandas as pd # data processing, CSV file I/O (e.g. pd.read_csv)\n",
    "\n",
    "# Input data files are available in the read-only \"../input/\" directory\n",
    "# For example, running this (by clicking run or pressing Shift+Enter) will list all files under the input directory\n",
    "\n",
    "import os\n",
    "for dirname, _, filenames in os.walk('/kaggle/input/digit-recognizer'):\n",
    "    for filename in filenames:\n",
    "        print(os.path.join(dirname, filename))\n",
    "\n",
    "# You can write up to 20GB to the current directory (/kaggle/working/) that gets preserved as output when you create a version using \"Save & Run All\" \n",
    "# You can also write temporary files to /kaggle/temp/, but they won't be saved outside of the current session"
   ]
  },
  {
   "cell_type": "markdown",
   "id": "fa05cd46",
   "metadata": {
    "papermill": {
     "duration": 0.007269,
     "end_time": "2023-04-10T07:56:20.843749",
     "exception": false,
     "start_time": "2023-04-10T07:56:20.836480",
     "status": "completed"
    },
    "tags": []
   },
   "source": [
    "# Import Libraries"
   ]
  },
  {
   "cell_type": "code",
   "execution_count": 2,
   "id": "cbb4672d",
   "metadata": {
    "execution": {
     "iopub.execute_input": "2023-04-10T07:56:20.859223Z",
     "iopub.status.busy": "2023-04-10T07:56:20.858961Z",
     "iopub.status.idle": "2023-04-10T07:56:28.191383Z",
     "shell.execute_reply": "2023-04-10T07:56:28.190372Z"
    },
    "papermill": {
     "duration": 7.342991,
     "end_time": "2023-04-10T07:56:28.193981",
     "exception": false,
     "start_time": "2023-04-10T07:56:20.850990",
     "status": "completed"
    },
    "tags": []
   },
   "outputs": [],
   "source": [
    "from skimage.io import  imread, imshow\n",
    "from skimage.transform import  resize, rescale\n",
    "from skimage.color import rgb2gray\n",
    "import numpy as np\n",
    "from os import listdir, path\n",
    "import matplotlib.pyplot as plt\n",
    "import pandas as pd\n",
    "from tensorflow.keras.utils import to_categorical\n",
    "from tensorflow.keras.models import Sequential\n",
    "from tensorflow.keras.layers import Dense\n",
    "from sklearn.model_selection import KFold"
   ]
  },
  {
   "cell_type": "markdown",
   "id": "d653a37b",
   "metadata": {
    "papermill": {
     "duration": 0.007089,
     "end_time": "2023-04-10T07:56:28.209490",
     "exception": false,
     "start_time": "2023-04-10T07:56:28.202401",
     "status": "completed"
    },
    "tags": []
   },
   "source": [
    "# Read the Data"
   ]
  },
  {
   "cell_type": "code",
   "execution_count": 3,
   "id": "7926ec41",
   "metadata": {
    "execution": {
     "iopub.execute_input": "2023-04-10T07:56:28.226166Z",
     "iopub.status.busy": "2023-04-10T07:56:28.224901Z",
     "iopub.status.idle": "2023-04-10T07:56:33.581145Z",
     "shell.execute_reply": "2023-04-10T07:56:33.580037Z"
    },
    "papermill": {
     "duration": 5.367225,
     "end_time": "2023-04-10T07:56:33.583797",
     "exception": false,
     "start_time": "2023-04-10T07:56:28.216572",
     "status": "completed"
    },
    "tags": []
   },
   "outputs": [],
   "source": [
    "data_test = pd.read_csv('/kaggle/input/digit-recognizer/test.csv')\n",
    "data_train = pd.read_csv('/kaggle/input/digit-recognizer/train.csv')\n",
    "data_submission = pd.read_csv('/kaggle/input/digit-recognizer/sample_submission.csv')"
   ]
  },
  {
   "cell_type": "markdown",
   "id": "7d3950c8",
   "metadata": {
    "papermill": {
     "duration": 0.007312,
     "end_time": "2023-04-10T07:56:33.600742",
     "exception": false,
     "start_time": "2023-04-10T07:56:33.593430",
     "status": "completed"
    },
    "tags": []
   },
   "source": [
    "# Look at the Data"
   ]
  },
  {
   "cell_type": "code",
   "execution_count": 4,
   "id": "4b4ff3c4",
   "metadata": {
    "execution": {
     "iopub.execute_input": "2023-04-10T07:56:33.618405Z",
     "iopub.status.busy": "2023-04-10T07:56:33.616733Z",
     "iopub.status.idle": "2023-04-10T07:56:33.647481Z",
     "shell.execute_reply": "2023-04-10T07:56:33.646393Z"
    },
    "papermill": {
     "duration": 0.042665,
     "end_time": "2023-04-10T07:56:33.650423",
     "exception": false,
     "start_time": "2023-04-10T07:56:33.607758",
     "status": "completed"
    },
    "tags": []
   },
   "outputs": [
    {
     "data": {
      "text/html": [
       "<div>\n",
       "<style scoped>\n",
       "    .dataframe tbody tr th:only-of-type {\n",
       "        vertical-align: middle;\n",
       "    }\n",
       "\n",
       "    .dataframe tbody tr th {\n",
       "        vertical-align: top;\n",
       "    }\n",
       "\n",
       "    .dataframe thead th {\n",
       "        text-align: right;\n",
       "    }\n",
       "</style>\n",
       "<table border=\"1\" class=\"dataframe\">\n",
       "  <thead>\n",
       "    <tr style=\"text-align: right;\">\n",
       "      <th></th>\n",
       "      <th>pixel0</th>\n",
       "      <th>pixel1</th>\n",
       "      <th>pixel2</th>\n",
       "      <th>pixel3</th>\n",
       "      <th>pixel4</th>\n",
       "      <th>pixel5</th>\n",
       "      <th>pixel6</th>\n",
       "      <th>pixel7</th>\n",
       "      <th>pixel8</th>\n",
       "      <th>pixel9</th>\n",
       "      <th>...</th>\n",
       "      <th>pixel774</th>\n",
       "      <th>pixel775</th>\n",
       "      <th>pixel776</th>\n",
       "      <th>pixel777</th>\n",
       "      <th>pixel778</th>\n",
       "      <th>pixel779</th>\n",
       "      <th>pixel780</th>\n",
       "      <th>pixel781</th>\n",
       "      <th>pixel782</th>\n",
       "      <th>pixel783</th>\n",
       "    </tr>\n",
       "  </thead>\n",
       "  <tbody>\n",
       "    <tr>\n",
       "      <th>0</th>\n",
       "      <td>0</td>\n",
       "      <td>0</td>\n",
       "      <td>0</td>\n",
       "      <td>0</td>\n",
       "      <td>0</td>\n",
       "      <td>0</td>\n",
       "      <td>0</td>\n",
       "      <td>0</td>\n",
       "      <td>0</td>\n",
       "      <td>0</td>\n",
       "      <td>...</td>\n",
       "      <td>0</td>\n",
       "      <td>0</td>\n",
       "      <td>0</td>\n",
       "      <td>0</td>\n",
       "      <td>0</td>\n",
       "      <td>0</td>\n",
       "      <td>0</td>\n",
       "      <td>0</td>\n",
       "      <td>0</td>\n",
       "      <td>0</td>\n",
       "    </tr>\n",
       "    <tr>\n",
       "      <th>1</th>\n",
       "      <td>0</td>\n",
       "      <td>0</td>\n",
       "      <td>0</td>\n",
       "      <td>0</td>\n",
       "      <td>0</td>\n",
       "      <td>0</td>\n",
       "      <td>0</td>\n",
       "      <td>0</td>\n",
       "      <td>0</td>\n",
       "      <td>0</td>\n",
       "      <td>...</td>\n",
       "      <td>0</td>\n",
       "      <td>0</td>\n",
       "      <td>0</td>\n",
       "      <td>0</td>\n",
       "      <td>0</td>\n",
       "      <td>0</td>\n",
       "      <td>0</td>\n",
       "      <td>0</td>\n",
       "      <td>0</td>\n",
       "      <td>0</td>\n",
       "    </tr>\n",
       "    <tr>\n",
       "      <th>2</th>\n",
       "      <td>0</td>\n",
       "      <td>0</td>\n",
       "      <td>0</td>\n",
       "      <td>0</td>\n",
       "      <td>0</td>\n",
       "      <td>0</td>\n",
       "      <td>0</td>\n",
       "      <td>0</td>\n",
       "      <td>0</td>\n",
       "      <td>0</td>\n",
       "      <td>...</td>\n",
       "      <td>0</td>\n",
       "      <td>0</td>\n",
       "      <td>0</td>\n",
       "      <td>0</td>\n",
       "      <td>0</td>\n",
       "      <td>0</td>\n",
       "      <td>0</td>\n",
       "      <td>0</td>\n",
       "      <td>0</td>\n",
       "      <td>0</td>\n",
       "    </tr>\n",
       "    <tr>\n",
       "      <th>3</th>\n",
       "      <td>0</td>\n",
       "      <td>0</td>\n",
       "      <td>0</td>\n",
       "      <td>0</td>\n",
       "      <td>0</td>\n",
       "      <td>0</td>\n",
       "      <td>0</td>\n",
       "      <td>0</td>\n",
       "      <td>0</td>\n",
       "      <td>0</td>\n",
       "      <td>...</td>\n",
       "      <td>0</td>\n",
       "      <td>0</td>\n",
       "      <td>0</td>\n",
       "      <td>0</td>\n",
       "      <td>0</td>\n",
       "      <td>0</td>\n",
       "      <td>0</td>\n",
       "      <td>0</td>\n",
       "      <td>0</td>\n",
       "      <td>0</td>\n",
       "    </tr>\n",
       "    <tr>\n",
       "      <th>4</th>\n",
       "      <td>0</td>\n",
       "      <td>0</td>\n",
       "      <td>0</td>\n",
       "      <td>0</td>\n",
       "      <td>0</td>\n",
       "      <td>0</td>\n",
       "      <td>0</td>\n",
       "      <td>0</td>\n",
       "      <td>0</td>\n",
       "      <td>0</td>\n",
       "      <td>...</td>\n",
       "      <td>0</td>\n",
       "      <td>0</td>\n",
       "      <td>0</td>\n",
       "      <td>0</td>\n",
       "      <td>0</td>\n",
       "      <td>0</td>\n",
       "      <td>0</td>\n",
       "      <td>0</td>\n",
       "      <td>0</td>\n",
       "      <td>0</td>\n",
       "    </tr>\n",
       "    <tr>\n",
       "      <th>...</th>\n",
       "      <td>...</td>\n",
       "      <td>...</td>\n",
       "      <td>...</td>\n",
       "      <td>...</td>\n",
       "      <td>...</td>\n",
       "      <td>...</td>\n",
       "      <td>...</td>\n",
       "      <td>...</td>\n",
       "      <td>...</td>\n",
       "      <td>...</td>\n",
       "      <td>...</td>\n",
       "      <td>...</td>\n",
       "      <td>...</td>\n",
       "      <td>...</td>\n",
       "      <td>...</td>\n",
       "      <td>...</td>\n",
       "      <td>...</td>\n",
       "      <td>...</td>\n",
       "      <td>...</td>\n",
       "      <td>...</td>\n",
       "      <td>...</td>\n",
       "    </tr>\n",
       "    <tr>\n",
       "      <th>27995</th>\n",
       "      <td>0</td>\n",
       "      <td>0</td>\n",
       "      <td>0</td>\n",
       "      <td>0</td>\n",
       "      <td>0</td>\n",
       "      <td>0</td>\n",
       "      <td>0</td>\n",
       "      <td>0</td>\n",
       "      <td>0</td>\n",
       "      <td>0</td>\n",
       "      <td>...</td>\n",
       "      <td>0</td>\n",
       "      <td>0</td>\n",
       "      <td>0</td>\n",
       "      <td>0</td>\n",
       "      <td>0</td>\n",
       "      <td>0</td>\n",
       "      <td>0</td>\n",
       "      <td>0</td>\n",
       "      <td>0</td>\n",
       "      <td>0</td>\n",
       "    </tr>\n",
       "    <tr>\n",
       "      <th>27996</th>\n",
       "      <td>0</td>\n",
       "      <td>0</td>\n",
       "      <td>0</td>\n",
       "      <td>0</td>\n",
       "      <td>0</td>\n",
       "      <td>0</td>\n",
       "      <td>0</td>\n",
       "      <td>0</td>\n",
       "      <td>0</td>\n",
       "      <td>0</td>\n",
       "      <td>...</td>\n",
       "      <td>0</td>\n",
       "      <td>0</td>\n",
       "      <td>0</td>\n",
       "      <td>0</td>\n",
       "      <td>0</td>\n",
       "      <td>0</td>\n",
       "      <td>0</td>\n",
       "      <td>0</td>\n",
       "      <td>0</td>\n",
       "      <td>0</td>\n",
       "    </tr>\n",
       "    <tr>\n",
       "      <th>27997</th>\n",
       "      <td>0</td>\n",
       "      <td>0</td>\n",
       "      <td>0</td>\n",
       "      <td>0</td>\n",
       "      <td>0</td>\n",
       "      <td>0</td>\n",
       "      <td>0</td>\n",
       "      <td>0</td>\n",
       "      <td>0</td>\n",
       "      <td>0</td>\n",
       "      <td>...</td>\n",
       "      <td>0</td>\n",
       "      <td>0</td>\n",
       "      <td>0</td>\n",
       "      <td>0</td>\n",
       "      <td>0</td>\n",
       "      <td>0</td>\n",
       "      <td>0</td>\n",
       "      <td>0</td>\n",
       "      <td>0</td>\n",
       "      <td>0</td>\n",
       "    </tr>\n",
       "    <tr>\n",
       "      <th>27998</th>\n",
       "      <td>0</td>\n",
       "      <td>0</td>\n",
       "      <td>0</td>\n",
       "      <td>0</td>\n",
       "      <td>0</td>\n",
       "      <td>0</td>\n",
       "      <td>0</td>\n",
       "      <td>0</td>\n",
       "      <td>0</td>\n",
       "      <td>0</td>\n",
       "      <td>...</td>\n",
       "      <td>0</td>\n",
       "      <td>0</td>\n",
       "      <td>0</td>\n",
       "      <td>0</td>\n",
       "      <td>0</td>\n",
       "      <td>0</td>\n",
       "      <td>0</td>\n",
       "      <td>0</td>\n",
       "      <td>0</td>\n",
       "      <td>0</td>\n",
       "    </tr>\n",
       "    <tr>\n",
       "      <th>27999</th>\n",
       "      <td>0</td>\n",
       "      <td>0</td>\n",
       "      <td>0</td>\n",
       "      <td>0</td>\n",
       "      <td>0</td>\n",
       "      <td>0</td>\n",
       "      <td>0</td>\n",
       "      <td>0</td>\n",
       "      <td>0</td>\n",
       "      <td>0</td>\n",
       "      <td>...</td>\n",
       "      <td>0</td>\n",
       "      <td>0</td>\n",
       "      <td>0</td>\n",
       "      <td>0</td>\n",
       "      <td>0</td>\n",
       "      <td>0</td>\n",
       "      <td>0</td>\n",
       "      <td>0</td>\n",
       "      <td>0</td>\n",
       "      <td>0</td>\n",
       "    </tr>\n",
       "  </tbody>\n",
       "</table>\n",
       "<p>28000 rows × 784 columns</p>\n",
       "</div>"
      ],
      "text/plain": [
       "       pixel0  pixel1  pixel2  pixel3  pixel4  pixel5  pixel6  pixel7  pixel8  \\\n",
       "0           0       0       0       0       0       0       0       0       0   \n",
       "1           0       0       0       0       0       0       0       0       0   \n",
       "2           0       0       0       0       0       0       0       0       0   \n",
       "3           0       0       0       0       0       0       0       0       0   \n",
       "4           0       0       0       0       0       0       0       0       0   \n",
       "...       ...     ...     ...     ...     ...     ...     ...     ...     ...   \n",
       "27995       0       0       0       0       0       0       0       0       0   \n",
       "27996       0       0       0       0       0       0       0       0       0   \n",
       "27997       0       0       0       0       0       0       0       0       0   \n",
       "27998       0       0       0       0       0       0       0       0       0   \n",
       "27999       0       0       0       0       0       0       0       0       0   \n",
       "\n",
       "       pixel9  ...  pixel774  pixel775  pixel776  pixel777  pixel778  \\\n",
       "0           0  ...         0         0         0         0         0   \n",
       "1           0  ...         0         0         0         0         0   \n",
       "2           0  ...         0         0         0         0         0   \n",
       "3           0  ...         0         0         0         0         0   \n",
       "4           0  ...         0         0         0         0         0   \n",
       "...       ...  ...       ...       ...       ...       ...       ...   \n",
       "27995       0  ...         0         0         0         0         0   \n",
       "27996       0  ...         0         0         0         0         0   \n",
       "27997       0  ...         0         0         0         0         0   \n",
       "27998       0  ...         0         0         0         0         0   \n",
       "27999       0  ...         0         0         0         0         0   \n",
       "\n",
       "       pixel779  pixel780  pixel781  pixel782  pixel783  \n",
       "0             0         0         0         0         0  \n",
       "1             0         0         0         0         0  \n",
       "2             0         0         0         0         0  \n",
       "3             0         0         0         0         0  \n",
       "4             0         0         0         0         0  \n",
       "...         ...       ...       ...       ...       ...  \n",
       "27995         0         0         0         0         0  \n",
       "27996         0         0         0         0         0  \n",
       "27997         0         0         0         0         0  \n",
       "27998         0         0         0         0         0  \n",
       "27999         0         0         0         0         0  \n",
       "\n",
       "[28000 rows x 784 columns]"
      ]
     },
     "execution_count": 4,
     "metadata": {},
     "output_type": "execute_result"
    }
   ],
   "source": [
    "data_test"
   ]
  },
  {
   "cell_type": "code",
   "execution_count": 5,
   "id": "f15a1af5",
   "metadata": {
    "execution": {
     "iopub.execute_input": "2023-04-10T07:56:33.667277Z",
     "iopub.status.busy": "2023-04-10T07:56:33.666962Z",
     "iopub.status.idle": "2023-04-10T07:56:33.687150Z",
     "shell.execute_reply": "2023-04-10T07:56:33.686167Z"
    },
    "papermill": {
     "duration": 0.030909,
     "end_time": "2023-04-10T07:56:33.689301",
     "exception": false,
     "start_time": "2023-04-10T07:56:33.658392",
     "status": "completed"
    },
    "tags": []
   },
   "outputs": [
    {
     "data": {
      "text/html": [
       "<div>\n",
       "<style scoped>\n",
       "    .dataframe tbody tr th:only-of-type {\n",
       "        vertical-align: middle;\n",
       "    }\n",
       "\n",
       "    .dataframe tbody tr th {\n",
       "        vertical-align: top;\n",
       "    }\n",
       "\n",
       "    .dataframe thead th {\n",
       "        text-align: right;\n",
       "    }\n",
       "</style>\n",
       "<table border=\"1\" class=\"dataframe\">\n",
       "  <thead>\n",
       "    <tr style=\"text-align: right;\">\n",
       "      <th></th>\n",
       "      <th>label</th>\n",
       "      <th>pixel0</th>\n",
       "      <th>pixel1</th>\n",
       "      <th>pixel2</th>\n",
       "      <th>pixel3</th>\n",
       "      <th>pixel4</th>\n",
       "      <th>pixel5</th>\n",
       "      <th>pixel6</th>\n",
       "      <th>pixel7</th>\n",
       "      <th>pixel8</th>\n",
       "      <th>...</th>\n",
       "      <th>pixel774</th>\n",
       "      <th>pixel775</th>\n",
       "      <th>pixel776</th>\n",
       "      <th>pixel777</th>\n",
       "      <th>pixel778</th>\n",
       "      <th>pixel779</th>\n",
       "      <th>pixel780</th>\n",
       "      <th>pixel781</th>\n",
       "      <th>pixel782</th>\n",
       "      <th>pixel783</th>\n",
       "    </tr>\n",
       "  </thead>\n",
       "  <tbody>\n",
       "    <tr>\n",
       "      <th>0</th>\n",
       "      <td>1</td>\n",
       "      <td>0</td>\n",
       "      <td>0</td>\n",
       "      <td>0</td>\n",
       "      <td>0</td>\n",
       "      <td>0</td>\n",
       "      <td>0</td>\n",
       "      <td>0</td>\n",
       "      <td>0</td>\n",
       "      <td>0</td>\n",
       "      <td>...</td>\n",
       "      <td>0</td>\n",
       "      <td>0</td>\n",
       "      <td>0</td>\n",
       "      <td>0</td>\n",
       "      <td>0</td>\n",
       "      <td>0</td>\n",
       "      <td>0</td>\n",
       "      <td>0</td>\n",
       "      <td>0</td>\n",
       "      <td>0</td>\n",
       "    </tr>\n",
       "    <tr>\n",
       "      <th>1</th>\n",
       "      <td>0</td>\n",
       "      <td>0</td>\n",
       "      <td>0</td>\n",
       "      <td>0</td>\n",
       "      <td>0</td>\n",
       "      <td>0</td>\n",
       "      <td>0</td>\n",
       "      <td>0</td>\n",
       "      <td>0</td>\n",
       "      <td>0</td>\n",
       "      <td>...</td>\n",
       "      <td>0</td>\n",
       "      <td>0</td>\n",
       "      <td>0</td>\n",
       "      <td>0</td>\n",
       "      <td>0</td>\n",
       "      <td>0</td>\n",
       "      <td>0</td>\n",
       "      <td>0</td>\n",
       "      <td>0</td>\n",
       "      <td>0</td>\n",
       "    </tr>\n",
       "    <tr>\n",
       "      <th>2</th>\n",
       "      <td>1</td>\n",
       "      <td>0</td>\n",
       "      <td>0</td>\n",
       "      <td>0</td>\n",
       "      <td>0</td>\n",
       "      <td>0</td>\n",
       "      <td>0</td>\n",
       "      <td>0</td>\n",
       "      <td>0</td>\n",
       "      <td>0</td>\n",
       "      <td>...</td>\n",
       "      <td>0</td>\n",
       "      <td>0</td>\n",
       "      <td>0</td>\n",
       "      <td>0</td>\n",
       "      <td>0</td>\n",
       "      <td>0</td>\n",
       "      <td>0</td>\n",
       "      <td>0</td>\n",
       "      <td>0</td>\n",
       "      <td>0</td>\n",
       "    </tr>\n",
       "    <tr>\n",
       "      <th>3</th>\n",
       "      <td>4</td>\n",
       "      <td>0</td>\n",
       "      <td>0</td>\n",
       "      <td>0</td>\n",
       "      <td>0</td>\n",
       "      <td>0</td>\n",
       "      <td>0</td>\n",
       "      <td>0</td>\n",
       "      <td>0</td>\n",
       "      <td>0</td>\n",
       "      <td>...</td>\n",
       "      <td>0</td>\n",
       "      <td>0</td>\n",
       "      <td>0</td>\n",
       "      <td>0</td>\n",
       "      <td>0</td>\n",
       "      <td>0</td>\n",
       "      <td>0</td>\n",
       "      <td>0</td>\n",
       "      <td>0</td>\n",
       "      <td>0</td>\n",
       "    </tr>\n",
       "    <tr>\n",
       "      <th>4</th>\n",
       "      <td>0</td>\n",
       "      <td>0</td>\n",
       "      <td>0</td>\n",
       "      <td>0</td>\n",
       "      <td>0</td>\n",
       "      <td>0</td>\n",
       "      <td>0</td>\n",
       "      <td>0</td>\n",
       "      <td>0</td>\n",
       "      <td>0</td>\n",
       "      <td>...</td>\n",
       "      <td>0</td>\n",
       "      <td>0</td>\n",
       "      <td>0</td>\n",
       "      <td>0</td>\n",
       "      <td>0</td>\n",
       "      <td>0</td>\n",
       "      <td>0</td>\n",
       "      <td>0</td>\n",
       "      <td>0</td>\n",
       "      <td>0</td>\n",
       "    </tr>\n",
       "    <tr>\n",
       "      <th>...</th>\n",
       "      <td>...</td>\n",
       "      <td>...</td>\n",
       "      <td>...</td>\n",
       "      <td>...</td>\n",
       "      <td>...</td>\n",
       "      <td>...</td>\n",
       "      <td>...</td>\n",
       "      <td>...</td>\n",
       "      <td>...</td>\n",
       "      <td>...</td>\n",
       "      <td>...</td>\n",
       "      <td>...</td>\n",
       "      <td>...</td>\n",
       "      <td>...</td>\n",
       "      <td>...</td>\n",
       "      <td>...</td>\n",
       "      <td>...</td>\n",
       "      <td>...</td>\n",
       "      <td>...</td>\n",
       "      <td>...</td>\n",
       "      <td>...</td>\n",
       "    </tr>\n",
       "    <tr>\n",
       "      <th>41995</th>\n",
       "      <td>0</td>\n",
       "      <td>0</td>\n",
       "      <td>0</td>\n",
       "      <td>0</td>\n",
       "      <td>0</td>\n",
       "      <td>0</td>\n",
       "      <td>0</td>\n",
       "      <td>0</td>\n",
       "      <td>0</td>\n",
       "      <td>0</td>\n",
       "      <td>...</td>\n",
       "      <td>0</td>\n",
       "      <td>0</td>\n",
       "      <td>0</td>\n",
       "      <td>0</td>\n",
       "      <td>0</td>\n",
       "      <td>0</td>\n",
       "      <td>0</td>\n",
       "      <td>0</td>\n",
       "      <td>0</td>\n",
       "      <td>0</td>\n",
       "    </tr>\n",
       "    <tr>\n",
       "      <th>41996</th>\n",
       "      <td>1</td>\n",
       "      <td>0</td>\n",
       "      <td>0</td>\n",
       "      <td>0</td>\n",
       "      <td>0</td>\n",
       "      <td>0</td>\n",
       "      <td>0</td>\n",
       "      <td>0</td>\n",
       "      <td>0</td>\n",
       "      <td>0</td>\n",
       "      <td>...</td>\n",
       "      <td>0</td>\n",
       "      <td>0</td>\n",
       "      <td>0</td>\n",
       "      <td>0</td>\n",
       "      <td>0</td>\n",
       "      <td>0</td>\n",
       "      <td>0</td>\n",
       "      <td>0</td>\n",
       "      <td>0</td>\n",
       "      <td>0</td>\n",
       "    </tr>\n",
       "    <tr>\n",
       "      <th>41997</th>\n",
       "      <td>7</td>\n",
       "      <td>0</td>\n",
       "      <td>0</td>\n",
       "      <td>0</td>\n",
       "      <td>0</td>\n",
       "      <td>0</td>\n",
       "      <td>0</td>\n",
       "      <td>0</td>\n",
       "      <td>0</td>\n",
       "      <td>0</td>\n",
       "      <td>...</td>\n",
       "      <td>0</td>\n",
       "      <td>0</td>\n",
       "      <td>0</td>\n",
       "      <td>0</td>\n",
       "      <td>0</td>\n",
       "      <td>0</td>\n",
       "      <td>0</td>\n",
       "      <td>0</td>\n",
       "      <td>0</td>\n",
       "      <td>0</td>\n",
       "    </tr>\n",
       "    <tr>\n",
       "      <th>41998</th>\n",
       "      <td>6</td>\n",
       "      <td>0</td>\n",
       "      <td>0</td>\n",
       "      <td>0</td>\n",
       "      <td>0</td>\n",
       "      <td>0</td>\n",
       "      <td>0</td>\n",
       "      <td>0</td>\n",
       "      <td>0</td>\n",
       "      <td>0</td>\n",
       "      <td>...</td>\n",
       "      <td>0</td>\n",
       "      <td>0</td>\n",
       "      <td>0</td>\n",
       "      <td>0</td>\n",
       "      <td>0</td>\n",
       "      <td>0</td>\n",
       "      <td>0</td>\n",
       "      <td>0</td>\n",
       "      <td>0</td>\n",
       "      <td>0</td>\n",
       "    </tr>\n",
       "    <tr>\n",
       "      <th>41999</th>\n",
       "      <td>9</td>\n",
       "      <td>0</td>\n",
       "      <td>0</td>\n",
       "      <td>0</td>\n",
       "      <td>0</td>\n",
       "      <td>0</td>\n",
       "      <td>0</td>\n",
       "      <td>0</td>\n",
       "      <td>0</td>\n",
       "      <td>0</td>\n",
       "      <td>...</td>\n",
       "      <td>0</td>\n",
       "      <td>0</td>\n",
       "      <td>0</td>\n",
       "      <td>0</td>\n",
       "      <td>0</td>\n",
       "      <td>0</td>\n",
       "      <td>0</td>\n",
       "      <td>0</td>\n",
       "      <td>0</td>\n",
       "      <td>0</td>\n",
       "    </tr>\n",
       "  </tbody>\n",
       "</table>\n",
       "<p>42000 rows × 785 columns</p>\n",
       "</div>"
      ],
      "text/plain": [
       "       label  pixel0  pixel1  pixel2  pixel3  pixel4  pixel5  pixel6  pixel7  \\\n",
       "0          1       0       0       0       0       0       0       0       0   \n",
       "1          0       0       0       0       0       0       0       0       0   \n",
       "2          1       0       0       0       0       0       0       0       0   \n",
       "3          4       0       0       0       0       0       0       0       0   \n",
       "4          0       0       0       0       0       0       0       0       0   \n",
       "...      ...     ...     ...     ...     ...     ...     ...     ...     ...   \n",
       "41995      0       0       0       0       0       0       0       0       0   \n",
       "41996      1       0       0       0       0       0       0       0       0   \n",
       "41997      7       0       0       0       0       0       0       0       0   \n",
       "41998      6       0       0       0       0       0       0       0       0   \n",
       "41999      9       0       0       0       0       0       0       0       0   \n",
       "\n",
       "       pixel8  ...  pixel774  pixel775  pixel776  pixel777  pixel778  \\\n",
       "0           0  ...         0         0         0         0         0   \n",
       "1           0  ...         0         0         0         0         0   \n",
       "2           0  ...         0         0         0         0         0   \n",
       "3           0  ...         0         0         0         0         0   \n",
       "4           0  ...         0         0         0         0         0   \n",
       "...       ...  ...       ...       ...       ...       ...       ...   \n",
       "41995       0  ...         0         0         0         0         0   \n",
       "41996       0  ...         0         0         0         0         0   \n",
       "41997       0  ...         0         0         0         0         0   \n",
       "41998       0  ...         0         0         0         0         0   \n",
       "41999       0  ...         0         0         0         0         0   \n",
       "\n",
       "       pixel779  pixel780  pixel781  pixel782  pixel783  \n",
       "0             0         0         0         0         0  \n",
       "1             0         0         0         0         0  \n",
       "2             0         0         0         0         0  \n",
       "3             0         0         0         0         0  \n",
       "4             0         0         0         0         0  \n",
       "...         ...       ...       ...       ...       ...  \n",
       "41995         0         0         0         0         0  \n",
       "41996         0         0         0         0         0  \n",
       "41997         0         0         0         0         0  \n",
       "41998         0         0         0         0         0  \n",
       "41999         0         0         0         0         0  \n",
       "\n",
       "[42000 rows x 785 columns]"
      ]
     },
     "execution_count": 5,
     "metadata": {},
     "output_type": "execute_result"
    }
   ],
   "source": [
    "data_train"
   ]
  },
  {
   "cell_type": "code",
   "execution_count": 6,
   "id": "6e94d614",
   "metadata": {
    "execution": {
     "iopub.execute_input": "2023-04-10T07:56:33.706452Z",
     "iopub.status.busy": "2023-04-10T07:56:33.706170Z",
     "iopub.status.idle": "2023-04-10T07:56:33.716949Z",
     "shell.execute_reply": "2023-04-10T07:56:33.715849Z"
    },
    "papermill": {
     "duration": 0.02203,
     "end_time": "2023-04-10T07:56:33.719315",
     "exception": false,
     "start_time": "2023-04-10T07:56:33.697285",
     "status": "completed"
    },
    "tags": []
   },
   "outputs": [
    {
     "data": {
      "text/html": [
       "<div>\n",
       "<style scoped>\n",
       "    .dataframe tbody tr th:only-of-type {\n",
       "        vertical-align: middle;\n",
       "    }\n",
       "\n",
       "    .dataframe tbody tr th {\n",
       "        vertical-align: top;\n",
       "    }\n",
       "\n",
       "    .dataframe thead th {\n",
       "        text-align: right;\n",
       "    }\n",
       "</style>\n",
       "<table border=\"1\" class=\"dataframe\">\n",
       "  <thead>\n",
       "    <tr style=\"text-align: right;\">\n",
       "      <th></th>\n",
       "      <th>ImageId</th>\n",
       "      <th>Label</th>\n",
       "    </tr>\n",
       "  </thead>\n",
       "  <tbody>\n",
       "    <tr>\n",
       "      <th>0</th>\n",
       "      <td>1</td>\n",
       "      <td>0</td>\n",
       "    </tr>\n",
       "    <tr>\n",
       "      <th>1</th>\n",
       "      <td>2</td>\n",
       "      <td>0</td>\n",
       "    </tr>\n",
       "    <tr>\n",
       "      <th>2</th>\n",
       "      <td>3</td>\n",
       "      <td>0</td>\n",
       "    </tr>\n",
       "    <tr>\n",
       "      <th>3</th>\n",
       "      <td>4</td>\n",
       "      <td>0</td>\n",
       "    </tr>\n",
       "    <tr>\n",
       "      <th>4</th>\n",
       "      <td>5</td>\n",
       "      <td>0</td>\n",
       "    </tr>\n",
       "    <tr>\n",
       "      <th>...</th>\n",
       "      <td>...</td>\n",
       "      <td>...</td>\n",
       "    </tr>\n",
       "    <tr>\n",
       "      <th>27995</th>\n",
       "      <td>27996</td>\n",
       "      <td>0</td>\n",
       "    </tr>\n",
       "    <tr>\n",
       "      <th>27996</th>\n",
       "      <td>27997</td>\n",
       "      <td>0</td>\n",
       "    </tr>\n",
       "    <tr>\n",
       "      <th>27997</th>\n",
       "      <td>27998</td>\n",
       "      <td>0</td>\n",
       "    </tr>\n",
       "    <tr>\n",
       "      <th>27998</th>\n",
       "      <td>27999</td>\n",
       "      <td>0</td>\n",
       "    </tr>\n",
       "    <tr>\n",
       "      <th>27999</th>\n",
       "      <td>28000</td>\n",
       "      <td>0</td>\n",
       "    </tr>\n",
       "  </tbody>\n",
       "</table>\n",
       "<p>28000 rows × 2 columns</p>\n",
       "</div>"
      ],
      "text/plain": [
       "       ImageId  Label\n",
       "0            1      0\n",
       "1            2      0\n",
       "2            3      0\n",
       "3            4      0\n",
       "4            5      0\n",
       "...        ...    ...\n",
       "27995    27996      0\n",
       "27996    27997      0\n",
       "27997    27998      0\n",
       "27998    27999      0\n",
       "27999    28000      0\n",
       "\n",
       "[28000 rows x 2 columns]"
      ]
     },
     "execution_count": 6,
     "metadata": {},
     "output_type": "execute_result"
    }
   ],
   "source": [
    "data_submission"
   ]
  },
  {
   "cell_type": "markdown",
   "id": "2c440739",
   "metadata": {
    "papermill": {
     "duration": 0.007615,
     "end_time": "2023-04-10T07:56:33.735373",
     "exception": false,
     "start_time": "2023-04-10T07:56:33.727758",
     "status": "completed"
    },
    "tags": []
   },
   "source": [
    "## Look at the shape "
   ]
  },
  {
   "cell_type": "code",
   "execution_count": 7,
   "id": "a2f41e37",
   "metadata": {
    "execution": {
     "iopub.execute_input": "2023-04-10T07:56:33.752256Z",
     "iopub.status.busy": "2023-04-10T07:56:33.751961Z",
     "iopub.status.idle": "2023-04-10T07:56:33.757860Z",
     "shell.execute_reply": "2023-04-10T07:56:33.756944Z"
    },
    "papermill": {
     "duration": 0.016724,
     "end_time": "2023-04-10T07:56:33.759972",
     "exception": false,
     "start_time": "2023-04-10T07:56:33.743248",
     "status": "completed"
    },
    "tags": []
   },
   "outputs": [
    {
     "data": {
      "text/plain": [
       "(28000, 784)"
      ]
     },
     "execution_count": 7,
     "metadata": {},
     "output_type": "execute_result"
    }
   ],
   "source": [
    "data_test.shape"
   ]
  },
  {
   "cell_type": "code",
   "execution_count": 8,
   "id": "414a13a6",
   "metadata": {
    "execution": {
     "iopub.execute_input": "2023-04-10T07:56:33.777489Z",
     "iopub.status.busy": "2023-04-10T07:56:33.777225Z",
     "iopub.status.idle": "2023-04-10T07:56:33.783025Z",
     "shell.execute_reply": "2023-04-10T07:56:33.782161Z"
    },
    "papermill": {
     "duration": 0.01699,
     "end_time": "2023-04-10T07:56:33.785218",
     "exception": false,
     "start_time": "2023-04-10T07:56:33.768228",
     "status": "completed"
    },
    "tags": []
   },
   "outputs": [
    {
     "data": {
      "text/plain": [
       "(42000, 785)"
      ]
     },
     "execution_count": 8,
     "metadata": {},
     "output_type": "execute_result"
    }
   ],
   "source": [
    "data_train.shape"
   ]
  },
  {
   "cell_type": "code",
   "execution_count": 9,
   "id": "9e761d5a",
   "metadata": {
    "execution": {
     "iopub.execute_input": "2023-04-10T07:56:33.803388Z",
     "iopub.status.busy": "2023-04-10T07:56:33.802680Z",
     "iopub.status.idle": "2023-04-10T07:56:33.808851Z",
     "shell.execute_reply": "2023-04-10T07:56:33.807744Z"
    },
    "papermill": {
     "duration": 0.018781,
     "end_time": "2023-04-10T07:56:33.812143",
     "exception": false,
     "start_time": "2023-04-10T07:56:33.793362",
     "status": "completed"
    },
    "tags": []
   },
   "outputs": [
    {
     "data": {
      "text/plain": [
       "(28000, 2)"
      ]
     },
     "execution_count": 9,
     "metadata": {},
     "output_type": "execute_result"
    }
   ],
   "source": [
    "data_submission.shape"
   ]
  },
  {
   "cell_type": "markdown",
   "id": "6e4cd038",
   "metadata": {
    "papermill": {
     "duration": 0.008044,
     "end_time": "2023-04-10T07:56:33.828554",
     "exception": false,
     "start_time": "2023-04-10T07:56:33.820510",
     "status": "completed"
    },
    "tags": []
   },
   "source": [
    "# Splite the target column"
   ]
  },
  {
   "cell_type": "markdown",
   "id": "96f07ccf",
   "metadata": {
    "papermill": {
     "duration": 0.007926,
     "end_time": "2023-04-10T07:56:33.844433",
     "exception": false,
     "start_time": "2023-04-10T07:56:33.836507",
     "status": "completed"
    },
    "tags": []
   },
   "source": [
    "## For Train Data"
   ]
  },
  {
   "cell_type": "code",
   "execution_count": 10,
   "id": "5fddcf8d",
   "metadata": {
    "execution": {
     "iopub.execute_input": "2023-04-10T07:56:33.862148Z",
     "iopub.status.busy": "2023-04-10T07:56:33.861858Z",
     "iopub.status.idle": "2023-04-10T07:56:33.964569Z",
     "shell.execute_reply": "2023-04-10T07:56:33.963457Z"
    },
    "papermill": {
     "duration": 0.113943,
     "end_time": "2023-04-10T07:56:33.966974",
     "exception": false,
     "start_time": "2023-04-10T07:56:33.853031",
     "status": "completed"
    },
    "tags": []
   },
   "outputs": [
    {
     "data": {
      "text/html": [
       "<div>\n",
       "<style scoped>\n",
       "    .dataframe tbody tr th:only-of-type {\n",
       "        vertical-align: middle;\n",
       "    }\n",
       "\n",
       "    .dataframe tbody tr th {\n",
       "        vertical-align: top;\n",
       "    }\n",
       "\n",
       "    .dataframe thead th {\n",
       "        text-align: right;\n",
       "    }\n",
       "</style>\n",
       "<table border=\"1\" class=\"dataframe\">\n",
       "  <thead>\n",
       "    <tr style=\"text-align: right;\">\n",
       "      <th></th>\n",
       "      <th>pixel0</th>\n",
       "      <th>pixel1</th>\n",
       "      <th>pixel2</th>\n",
       "      <th>pixel3</th>\n",
       "      <th>pixel4</th>\n",
       "      <th>pixel5</th>\n",
       "      <th>pixel6</th>\n",
       "      <th>pixel7</th>\n",
       "      <th>pixel8</th>\n",
       "      <th>pixel9</th>\n",
       "      <th>...</th>\n",
       "      <th>pixel774</th>\n",
       "      <th>pixel775</th>\n",
       "      <th>pixel776</th>\n",
       "      <th>pixel777</th>\n",
       "      <th>pixel778</th>\n",
       "      <th>pixel779</th>\n",
       "      <th>pixel780</th>\n",
       "      <th>pixel781</th>\n",
       "      <th>pixel782</th>\n",
       "      <th>pixel783</th>\n",
       "    </tr>\n",
       "  </thead>\n",
       "  <tbody>\n",
       "    <tr>\n",
       "      <th>0</th>\n",
       "      <td>0</td>\n",
       "      <td>0</td>\n",
       "      <td>0</td>\n",
       "      <td>0</td>\n",
       "      <td>0</td>\n",
       "      <td>0</td>\n",
       "      <td>0</td>\n",
       "      <td>0</td>\n",
       "      <td>0</td>\n",
       "      <td>0</td>\n",
       "      <td>...</td>\n",
       "      <td>0</td>\n",
       "      <td>0</td>\n",
       "      <td>0</td>\n",
       "      <td>0</td>\n",
       "      <td>0</td>\n",
       "      <td>0</td>\n",
       "      <td>0</td>\n",
       "      <td>0</td>\n",
       "      <td>0</td>\n",
       "      <td>0</td>\n",
       "    </tr>\n",
       "    <tr>\n",
       "      <th>1</th>\n",
       "      <td>0</td>\n",
       "      <td>0</td>\n",
       "      <td>0</td>\n",
       "      <td>0</td>\n",
       "      <td>0</td>\n",
       "      <td>0</td>\n",
       "      <td>0</td>\n",
       "      <td>0</td>\n",
       "      <td>0</td>\n",
       "      <td>0</td>\n",
       "      <td>...</td>\n",
       "      <td>0</td>\n",
       "      <td>0</td>\n",
       "      <td>0</td>\n",
       "      <td>0</td>\n",
       "      <td>0</td>\n",
       "      <td>0</td>\n",
       "      <td>0</td>\n",
       "      <td>0</td>\n",
       "      <td>0</td>\n",
       "      <td>0</td>\n",
       "    </tr>\n",
       "    <tr>\n",
       "      <th>2</th>\n",
       "      <td>0</td>\n",
       "      <td>0</td>\n",
       "      <td>0</td>\n",
       "      <td>0</td>\n",
       "      <td>0</td>\n",
       "      <td>0</td>\n",
       "      <td>0</td>\n",
       "      <td>0</td>\n",
       "      <td>0</td>\n",
       "      <td>0</td>\n",
       "      <td>...</td>\n",
       "      <td>0</td>\n",
       "      <td>0</td>\n",
       "      <td>0</td>\n",
       "      <td>0</td>\n",
       "      <td>0</td>\n",
       "      <td>0</td>\n",
       "      <td>0</td>\n",
       "      <td>0</td>\n",
       "      <td>0</td>\n",
       "      <td>0</td>\n",
       "    </tr>\n",
       "    <tr>\n",
       "      <th>3</th>\n",
       "      <td>0</td>\n",
       "      <td>0</td>\n",
       "      <td>0</td>\n",
       "      <td>0</td>\n",
       "      <td>0</td>\n",
       "      <td>0</td>\n",
       "      <td>0</td>\n",
       "      <td>0</td>\n",
       "      <td>0</td>\n",
       "      <td>0</td>\n",
       "      <td>...</td>\n",
       "      <td>0</td>\n",
       "      <td>0</td>\n",
       "      <td>0</td>\n",
       "      <td>0</td>\n",
       "      <td>0</td>\n",
       "      <td>0</td>\n",
       "      <td>0</td>\n",
       "      <td>0</td>\n",
       "      <td>0</td>\n",
       "      <td>0</td>\n",
       "    </tr>\n",
       "    <tr>\n",
       "      <th>4</th>\n",
       "      <td>0</td>\n",
       "      <td>0</td>\n",
       "      <td>0</td>\n",
       "      <td>0</td>\n",
       "      <td>0</td>\n",
       "      <td>0</td>\n",
       "      <td>0</td>\n",
       "      <td>0</td>\n",
       "      <td>0</td>\n",
       "      <td>0</td>\n",
       "      <td>...</td>\n",
       "      <td>0</td>\n",
       "      <td>0</td>\n",
       "      <td>0</td>\n",
       "      <td>0</td>\n",
       "      <td>0</td>\n",
       "      <td>0</td>\n",
       "      <td>0</td>\n",
       "      <td>0</td>\n",
       "      <td>0</td>\n",
       "      <td>0</td>\n",
       "    </tr>\n",
       "    <tr>\n",
       "      <th>...</th>\n",
       "      <td>...</td>\n",
       "      <td>...</td>\n",
       "      <td>...</td>\n",
       "      <td>...</td>\n",
       "      <td>...</td>\n",
       "      <td>...</td>\n",
       "      <td>...</td>\n",
       "      <td>...</td>\n",
       "      <td>...</td>\n",
       "      <td>...</td>\n",
       "      <td>...</td>\n",
       "      <td>...</td>\n",
       "      <td>...</td>\n",
       "      <td>...</td>\n",
       "      <td>...</td>\n",
       "      <td>...</td>\n",
       "      <td>...</td>\n",
       "      <td>...</td>\n",
       "      <td>...</td>\n",
       "      <td>...</td>\n",
       "      <td>...</td>\n",
       "    </tr>\n",
       "    <tr>\n",
       "      <th>41995</th>\n",
       "      <td>0</td>\n",
       "      <td>0</td>\n",
       "      <td>0</td>\n",
       "      <td>0</td>\n",
       "      <td>0</td>\n",
       "      <td>0</td>\n",
       "      <td>0</td>\n",
       "      <td>0</td>\n",
       "      <td>0</td>\n",
       "      <td>0</td>\n",
       "      <td>...</td>\n",
       "      <td>0</td>\n",
       "      <td>0</td>\n",
       "      <td>0</td>\n",
       "      <td>0</td>\n",
       "      <td>0</td>\n",
       "      <td>0</td>\n",
       "      <td>0</td>\n",
       "      <td>0</td>\n",
       "      <td>0</td>\n",
       "      <td>0</td>\n",
       "    </tr>\n",
       "    <tr>\n",
       "      <th>41996</th>\n",
       "      <td>0</td>\n",
       "      <td>0</td>\n",
       "      <td>0</td>\n",
       "      <td>0</td>\n",
       "      <td>0</td>\n",
       "      <td>0</td>\n",
       "      <td>0</td>\n",
       "      <td>0</td>\n",
       "      <td>0</td>\n",
       "      <td>0</td>\n",
       "      <td>...</td>\n",
       "      <td>0</td>\n",
       "      <td>0</td>\n",
       "      <td>0</td>\n",
       "      <td>0</td>\n",
       "      <td>0</td>\n",
       "      <td>0</td>\n",
       "      <td>0</td>\n",
       "      <td>0</td>\n",
       "      <td>0</td>\n",
       "      <td>0</td>\n",
       "    </tr>\n",
       "    <tr>\n",
       "      <th>41997</th>\n",
       "      <td>0</td>\n",
       "      <td>0</td>\n",
       "      <td>0</td>\n",
       "      <td>0</td>\n",
       "      <td>0</td>\n",
       "      <td>0</td>\n",
       "      <td>0</td>\n",
       "      <td>0</td>\n",
       "      <td>0</td>\n",
       "      <td>0</td>\n",
       "      <td>...</td>\n",
       "      <td>0</td>\n",
       "      <td>0</td>\n",
       "      <td>0</td>\n",
       "      <td>0</td>\n",
       "      <td>0</td>\n",
       "      <td>0</td>\n",
       "      <td>0</td>\n",
       "      <td>0</td>\n",
       "      <td>0</td>\n",
       "      <td>0</td>\n",
       "    </tr>\n",
       "    <tr>\n",
       "      <th>41998</th>\n",
       "      <td>0</td>\n",
       "      <td>0</td>\n",
       "      <td>0</td>\n",
       "      <td>0</td>\n",
       "      <td>0</td>\n",
       "      <td>0</td>\n",
       "      <td>0</td>\n",
       "      <td>0</td>\n",
       "      <td>0</td>\n",
       "      <td>0</td>\n",
       "      <td>...</td>\n",
       "      <td>0</td>\n",
       "      <td>0</td>\n",
       "      <td>0</td>\n",
       "      <td>0</td>\n",
       "      <td>0</td>\n",
       "      <td>0</td>\n",
       "      <td>0</td>\n",
       "      <td>0</td>\n",
       "      <td>0</td>\n",
       "      <td>0</td>\n",
       "    </tr>\n",
       "    <tr>\n",
       "      <th>41999</th>\n",
       "      <td>0</td>\n",
       "      <td>0</td>\n",
       "      <td>0</td>\n",
       "      <td>0</td>\n",
       "      <td>0</td>\n",
       "      <td>0</td>\n",
       "      <td>0</td>\n",
       "      <td>0</td>\n",
       "      <td>0</td>\n",
       "      <td>0</td>\n",
       "      <td>...</td>\n",
       "      <td>0</td>\n",
       "      <td>0</td>\n",
       "      <td>0</td>\n",
       "      <td>0</td>\n",
       "      <td>0</td>\n",
       "      <td>0</td>\n",
       "      <td>0</td>\n",
       "      <td>0</td>\n",
       "      <td>0</td>\n",
       "      <td>0</td>\n",
       "    </tr>\n",
       "  </tbody>\n",
       "</table>\n",
       "<p>42000 rows × 784 columns</p>\n",
       "</div>"
      ],
      "text/plain": [
       "       pixel0  pixel1  pixel2  pixel3  pixel4  pixel5  pixel6  pixel7  pixel8  \\\n",
       "0           0       0       0       0       0       0       0       0       0   \n",
       "1           0       0       0       0       0       0       0       0       0   \n",
       "2           0       0       0       0       0       0       0       0       0   \n",
       "3           0       0       0       0       0       0       0       0       0   \n",
       "4           0       0       0       0       0       0       0       0       0   \n",
       "...       ...     ...     ...     ...     ...     ...     ...     ...     ...   \n",
       "41995       0       0       0       0       0       0       0       0       0   \n",
       "41996       0       0       0       0       0       0       0       0       0   \n",
       "41997       0       0       0       0       0       0       0       0       0   \n",
       "41998       0       0       0       0       0       0       0       0       0   \n",
       "41999       0       0       0       0       0       0       0       0       0   \n",
       "\n",
       "       pixel9  ...  pixel774  pixel775  pixel776  pixel777  pixel778  \\\n",
       "0           0  ...         0         0         0         0         0   \n",
       "1           0  ...         0         0         0         0         0   \n",
       "2           0  ...         0         0         0         0         0   \n",
       "3           0  ...         0         0         0         0         0   \n",
       "4           0  ...         0         0         0         0         0   \n",
       "...       ...  ...       ...       ...       ...       ...       ...   \n",
       "41995       0  ...         0         0         0         0         0   \n",
       "41996       0  ...         0         0         0         0         0   \n",
       "41997       0  ...         0         0         0         0         0   \n",
       "41998       0  ...         0         0         0         0         0   \n",
       "41999       0  ...         0         0         0         0         0   \n",
       "\n",
       "       pixel779  pixel780  pixel781  pixel782  pixel783  \n",
       "0             0         0         0         0         0  \n",
       "1             0         0         0         0         0  \n",
       "2             0         0         0         0         0  \n",
       "3             0         0         0         0         0  \n",
       "4             0         0         0         0         0  \n",
       "...         ...       ...       ...       ...       ...  \n",
       "41995         0         0         0         0         0  \n",
       "41996         0         0         0         0         0  \n",
       "41997         0         0         0         0         0  \n",
       "41998         0         0         0         0         0  \n",
       "41999         0         0         0         0         0  \n",
       "\n",
       "[42000 rows x 784 columns]"
      ]
     },
     "execution_count": 10,
     "metadata": {},
     "output_type": "execute_result"
    }
   ],
   "source": [
    "X_train = data_train.drop(columns=['label'])\n",
    "X_train"
   ]
  },
  {
   "cell_type": "code",
   "execution_count": 11,
   "id": "602561a0",
   "metadata": {
    "execution": {
     "iopub.execute_input": "2023-04-10T07:56:33.986111Z",
     "iopub.status.busy": "2023-04-10T07:56:33.985814Z",
     "iopub.status.idle": "2023-04-10T07:56:33.994042Z",
     "shell.execute_reply": "2023-04-10T07:56:33.993121Z"
    },
    "papermill": {
     "duration": 0.019878,
     "end_time": "2023-04-10T07:56:33.995995",
     "exception": false,
     "start_time": "2023-04-10T07:56:33.976117",
     "status": "completed"
    },
    "tags": []
   },
   "outputs": [
    {
     "data": {
      "text/plain": [
       "0        1\n",
       "1        0\n",
       "2        1\n",
       "3        4\n",
       "4        0\n",
       "        ..\n",
       "41995    0\n",
       "41996    1\n",
       "41997    7\n",
       "41998    6\n",
       "41999    9\n",
       "Name: label, Length: 42000, dtype: int64"
      ]
     },
     "execution_count": 11,
     "metadata": {},
     "output_type": "execute_result"
    }
   ],
   "source": [
    "y_train = data_train['label']\n",
    "y_train"
   ]
  },
  {
   "cell_type": "code",
   "execution_count": 12,
   "id": "6279111b",
   "metadata": {
    "execution": {
     "iopub.execute_input": "2023-04-10T07:56:34.015249Z",
     "iopub.status.busy": "2023-04-10T07:56:34.014343Z",
     "iopub.status.idle": "2023-04-10T07:56:34.020948Z",
     "shell.execute_reply": "2023-04-10T07:56:34.019894Z"
    },
    "papermill": {
     "duration": 0.018663,
     "end_time": "2023-04-10T07:56:34.023526",
     "exception": false,
     "start_time": "2023-04-10T07:56:34.004863",
     "status": "completed"
    },
    "tags": []
   },
   "outputs": [
    {
     "data": {
      "text/plain": [
       "(42000, 784)"
      ]
     },
     "execution_count": 12,
     "metadata": {},
     "output_type": "execute_result"
    }
   ],
   "source": [
    "X_train.shape"
   ]
  },
  {
   "cell_type": "code",
   "execution_count": 13,
   "id": "e651c298",
   "metadata": {
    "execution": {
     "iopub.execute_input": "2023-04-10T07:56:34.042198Z",
     "iopub.status.busy": "2023-04-10T07:56:34.041913Z",
     "iopub.status.idle": "2023-04-10T07:56:34.047640Z",
     "shell.execute_reply": "2023-04-10T07:56:34.046592Z"
    },
    "papermill": {
     "duration": 0.018294,
     "end_time": "2023-04-10T07:56:34.050839",
     "exception": false,
     "start_time": "2023-04-10T07:56:34.032545",
     "status": "completed"
    },
    "tags": []
   },
   "outputs": [
    {
     "data": {
      "text/plain": [
       "(42000,)"
      ]
     },
     "execution_count": 13,
     "metadata": {},
     "output_type": "execute_result"
    }
   ],
   "source": [
    "y_train.shape"
   ]
  },
  {
   "cell_type": "markdown",
   "id": "98366a3c",
   "metadata": {
    "papermill": {
     "duration": 0.00873,
     "end_time": "2023-04-10T07:56:34.068222",
     "exception": false,
     "start_time": "2023-04-10T07:56:34.059492",
     "status": "completed"
    },
    "tags": []
   },
   "source": [
    "## For Test Data"
   ]
  },
  {
   "cell_type": "code",
   "execution_count": 14,
   "id": "e2386c9e",
   "metadata": {
    "execution": {
     "iopub.execute_input": "2023-04-10T07:56:34.086749Z",
     "iopub.status.busy": "2023-04-10T07:56:34.086480Z",
     "iopub.status.idle": "2023-04-10T07:56:34.094511Z",
     "shell.execute_reply": "2023-04-10T07:56:34.093537Z"
    },
    "papermill": {
     "duration": 0.019475,
     "end_time": "2023-04-10T07:56:34.096427",
     "exception": false,
     "start_time": "2023-04-10T07:56:34.076952",
     "status": "completed"
    },
    "tags": []
   },
   "outputs": [
    {
     "data": {
      "text/plain": [
       "0        0\n",
       "1        0\n",
       "2        0\n",
       "3        0\n",
       "4        0\n",
       "        ..\n",
       "27995    0\n",
       "27996    0\n",
       "27997    0\n",
       "27998    0\n",
       "27999    0\n",
       "Name: Label, Length: 28000, dtype: int64"
      ]
     },
     "execution_count": 14,
     "metadata": {},
     "output_type": "execute_result"
    }
   ],
   "source": [
    "y_test = data_submission['Label']\n",
    "y_test"
   ]
  },
  {
   "cell_type": "markdown",
   "id": "0f1a03f1",
   "metadata": {
    "papermill": {
     "duration": 0.009046,
     "end_time": "2023-04-10T07:56:34.114323",
     "exception": false,
     "start_time": "2023-04-10T07:56:34.105277",
     "status": "completed"
    },
    "tags": []
   },
   "source": [
    "# Preprocessing (To Categorical)"
   ]
  },
  {
   "cell_type": "code",
   "execution_count": 15,
   "id": "230a1ea3",
   "metadata": {
    "execution": {
     "iopub.execute_input": "2023-04-10T07:56:34.135670Z",
     "iopub.status.busy": "2023-04-10T07:56:34.134770Z",
     "iopub.status.idle": "2023-04-10T07:56:34.143800Z",
     "shell.execute_reply": "2023-04-10T07:56:34.142608Z"
    },
    "papermill": {
     "duration": 0.022275,
     "end_time": "2023-04-10T07:56:34.146310",
     "exception": false,
     "start_time": "2023-04-10T07:56:34.124035",
     "status": "completed"
    },
    "tags": []
   },
   "outputs": [
    {
     "data": {
      "text/plain": [
       "array([[0., 1., 0., ..., 0., 0., 0.],\n",
       "       [1., 0., 0., ..., 0., 0., 0.],\n",
       "       [0., 1., 0., ..., 0., 0., 0.],\n",
       "       ...,\n",
       "       [0., 0., 0., ..., 1., 0., 0.],\n",
       "       [0., 0., 0., ..., 0., 0., 0.],\n",
       "       [0., 0., 0., ..., 0., 0., 1.]], dtype=float32)"
      ]
     },
     "execution_count": 15,
     "metadata": {},
     "output_type": "execute_result"
    }
   ],
   "source": [
    "y_train_k = to_categorical(y_train, 10)\n",
    "y_train_k"
   ]
  },
  {
   "cell_type": "code",
   "execution_count": 16,
   "id": "93be6a65",
   "metadata": {
    "execution": {
     "iopub.execute_input": "2023-04-10T07:56:34.169097Z",
     "iopub.status.busy": "2023-04-10T07:56:34.168384Z",
     "iopub.status.idle": "2023-04-10T07:56:34.174257Z",
     "shell.execute_reply": "2023-04-10T07:56:34.173315Z"
    },
    "papermill": {
     "duration": 0.018791,
     "end_time": "2023-04-10T07:56:34.176470",
     "exception": false,
     "start_time": "2023-04-10T07:56:34.157679",
     "status": "completed"
    },
    "tags": []
   },
   "outputs": [
    {
     "data": {
      "text/plain": [
       "(42000, 10)"
      ]
     },
     "execution_count": 16,
     "metadata": {},
     "output_type": "execute_result"
    }
   ],
   "source": [
    "y_train_k.shape"
   ]
  },
  {
   "cell_type": "code",
   "execution_count": 17,
   "id": "e49831ee",
   "metadata": {
    "execution": {
     "iopub.execute_input": "2023-04-10T07:56:34.197520Z",
     "iopub.status.busy": "2023-04-10T07:56:34.196715Z",
     "iopub.status.idle": "2023-04-10T07:56:34.204955Z",
     "shell.execute_reply": "2023-04-10T07:56:34.203850Z"
    },
    "papermill": {
     "duration": 0.021214,
     "end_time": "2023-04-10T07:56:34.207340",
     "exception": false,
     "start_time": "2023-04-10T07:56:34.186126",
     "status": "completed"
    },
    "tags": []
   },
   "outputs": [
    {
     "data": {
      "text/plain": [
       "array([[1., 0., 0., ..., 0., 0., 0.],\n",
       "       [1., 0., 0., ..., 0., 0., 0.],\n",
       "       [1., 0., 0., ..., 0., 0., 0.],\n",
       "       ...,\n",
       "       [1., 0., 0., ..., 0., 0., 0.],\n",
       "       [1., 0., 0., ..., 0., 0., 0.],\n",
       "       [1., 0., 0., ..., 0., 0., 0.]], dtype=float32)"
      ]
     },
     "execution_count": 17,
     "metadata": {},
     "output_type": "execute_result"
    }
   ],
   "source": [
    "y_test_k = to_categorical(y_test, 10)\n",
    "y_test_k"
   ]
  },
  {
   "cell_type": "code",
   "execution_count": 18,
   "id": "8d39505d",
   "metadata": {
    "execution": {
     "iopub.execute_input": "2023-04-10T07:56:34.230940Z",
     "iopub.status.busy": "2023-04-10T07:56:34.229401Z",
     "iopub.status.idle": "2023-04-10T07:56:34.236602Z",
     "shell.execute_reply": "2023-04-10T07:56:34.235348Z"
    },
    "papermill": {
     "duration": 0.020517,
     "end_time": "2023-04-10T07:56:34.239013",
     "exception": false,
     "start_time": "2023-04-10T07:56:34.218496",
     "status": "completed"
    },
    "tags": []
   },
   "outputs": [
    {
     "data": {
      "text/plain": [
       "(28000, 10)"
      ]
     },
     "execution_count": 18,
     "metadata": {},
     "output_type": "execute_result"
    }
   ],
   "source": [
    "y_test_k.shape"
   ]
  },
  {
   "cell_type": "markdown",
   "id": "c6969398",
   "metadata": {
    "papermill": {
     "duration": 0.009615,
     "end_time": "2023-04-10T07:56:34.257886",
     "exception": false,
     "start_time": "2023-04-10T07:56:34.248271",
     "status": "completed"
    },
    "tags": []
   },
   "source": [
    "# Deep Learning Model"
   ]
  },
  {
   "cell_type": "code",
   "execution_count": 19,
   "id": "8b9cef20",
   "metadata": {
    "execution": {
     "iopub.execute_input": "2023-04-10T07:56:34.278758Z",
     "iopub.status.busy": "2023-04-10T07:56:34.277803Z",
     "iopub.status.idle": "2023-04-10T07:56:34.282758Z",
     "shell.execute_reply": "2023-04-10T07:56:34.281922Z"
    },
    "papermill": {
     "duration": 0.017377,
     "end_time": "2023-04-10T07:56:34.284692",
     "exception": false,
     "start_time": "2023-04-10T07:56:34.267315",
     "status": "completed"
    },
    "tags": []
   },
   "outputs": [],
   "source": [
    "import tensorflow as tf\n",
    "from tensorflow import keras"
   ]
  },
  {
   "cell_type": "code",
   "execution_count": 20,
   "id": "67020a0b",
   "metadata": {
    "execution": {
     "iopub.execute_input": "2023-04-10T07:56:34.305208Z",
     "iopub.status.busy": "2023-04-10T07:56:34.304246Z",
     "iopub.status.idle": "2023-04-10T07:56:34.308733Z",
     "shell.execute_reply": "2023-04-10T07:56:34.307886Z"
    },
    "papermill": {
     "duration": 0.016358,
     "end_time": "2023-04-10T07:56:34.310565",
     "exception": false,
     "start_time": "2023-04-10T07:56:34.294207",
     "status": "completed"
    },
    "tags": []
   },
   "outputs": [],
   "source": [
    "#  Design Model\n",
    "\n",
    "from keras import layers"
   ]
  },
  {
   "cell_type": "code",
   "execution_count": 21,
   "id": "3faebb2f",
   "metadata": {
    "execution": {
     "iopub.execute_input": "2023-04-10T07:56:34.331785Z",
     "iopub.status.busy": "2023-04-10T07:56:34.330249Z",
     "iopub.status.idle": "2023-04-10T07:56:34.335383Z",
     "shell.execute_reply": "2023-04-10T07:56:34.334402Z"
    },
    "papermill": {
     "duration": 0.017258,
     "end_time": "2023-04-10T07:56:34.337338",
     "exception": false,
     "start_time": "2023-04-10T07:56:34.320080",
     "status": "completed"
    },
    "tags": []
   },
   "outputs": [],
   "source": [
    "from tensorflow.keras.models import Sequential\n",
    "from tensorflow.keras.layers import Dense"
   ]
  },
  {
   "cell_type": "code",
   "execution_count": 22,
   "id": "018d415a",
   "metadata": {
    "execution": {
     "iopub.execute_input": "2023-04-10T07:56:34.357553Z",
     "iopub.status.busy": "2023-04-10T07:56:34.356774Z",
     "iopub.status.idle": "2023-04-10T07:56:34.361606Z",
     "shell.execute_reply": "2023-04-10T07:56:34.360593Z"
    },
    "papermill": {
     "duration": 0.016815,
     "end_time": "2023-04-10T07:56:34.363539",
     "exception": false,
     "start_time": "2023-04-10T07:56:34.346724",
     "status": "completed"
    },
    "tags": []
   },
   "outputs": [],
   "source": [
    "# to make this notebook's output stable across runs\n",
    "import tensorflow as tf\n",
    "def reset_graph(seed=41):\n",
    "    tf.random.set_seed(seed)\n",
    "    np.random.seed(seed) "
   ]
  },
  {
   "cell_type": "code",
   "execution_count": 23,
   "id": "8638d171",
   "metadata": {
    "execution": {
     "iopub.execute_input": "2023-04-10T07:56:34.384902Z",
     "iopub.status.busy": "2023-04-10T07:56:34.383949Z",
     "iopub.status.idle": "2023-04-10T07:56:38.206065Z",
     "shell.execute_reply": "2023-04-10T07:56:38.205075Z"
    },
    "papermill": {
     "duration": 3.835685,
     "end_time": "2023-04-10T07:56:38.208946",
     "exception": false,
     "start_time": "2023-04-10T07:56:34.373261",
     "status": "completed"
    },
    "tags": []
   },
   "outputs": [],
   "source": [
    "reset_graph(seed=42)\n",
    "tf.random.set_seed(500)\n",
    "callback = tf.keras.callbacks.EarlyStopping(monitor='loss', patience=3) # Early Stoping\n",
    "\n",
    "model = keras.Sequential(\n",
    "    [  \n",
    "        layers.InputLayer(input_shape=(784, )),\n",
    "        layers.Dense(1000, activation=\"relu\", name=\"hiddenlayer\"),\n",
    "        layers.Dense(900, activation=\"relu\", name=\"hiddenlayer1\"),\n",
    "        layers.Dense(800, activation=\"relu\", name=\"hiddenlayer2\"),\n",
    "        layers.Dense(700, activation=\"relu\", name=\"hiddenlayer3\"),\n",
    "        layers.Dense(600, activation=\"relu\", name=\"hiddenlayer4\"),\n",
    "        layers.Dense(500, activation=\"relu\", name=\"hiddenlayer5\"),\n",
    "        layers.Dense(400, activation=\"relu\", name=\"hiddenlayer6\"),\n",
    "        layers.Dense(300, activation=\"relu\", name=\"hiddenlayer7\"),\n",
    "        layers.Dense(200, activation=\"relu\", name=\"hiddenlayer8\"),\n",
    "        layers.Dense(100, activation=\"relu\", name=\"hiddenlayer9\"),\n",
    "        layers.Dense(50, activation=\"relu\", name=\"hiddenlayer10\"),\n",
    "        layers.Dense(10, activation=\"softmax\", name=\"outputlayer\"),\n",
    "    ]\n",
    ")"
   ]
  },
  {
   "cell_type": "code",
   "execution_count": 24,
   "id": "8aad6016",
   "metadata": {
    "execution": {
     "iopub.execute_input": "2023-04-10T07:56:38.234500Z",
     "iopub.status.busy": "2023-04-10T07:56:38.233612Z",
     "iopub.status.idle": "2023-04-10T07:56:38.249347Z",
     "shell.execute_reply": "2023-04-10T07:56:38.247032Z"
    },
    "papermill": {
     "duration": 0.032282,
     "end_time": "2023-04-10T07:56:38.251847",
     "exception": false,
     "start_time": "2023-04-10T07:56:38.219565",
     "status": "completed"
    },
    "tags": []
   },
   "outputs": [
    {
     "name": "stdout",
     "output_type": "stream",
     "text": [
      "Model: \"sequential\"\n",
      "_________________________________________________________________\n",
      "Layer (type)                 Output Shape              Param #   \n",
      "=================================================================\n",
      "hiddenlayer (Dense)          (None, 1000)              785000    \n",
      "_________________________________________________________________\n",
      "hiddenlayer1 (Dense)         (None, 900)               900900    \n",
      "_________________________________________________________________\n",
      "hiddenlayer2 (Dense)         (None, 800)               720800    \n",
      "_________________________________________________________________\n",
      "hiddenlayer3 (Dense)         (None, 700)               560700    \n",
      "_________________________________________________________________\n",
      "hiddenlayer4 (Dense)         (None, 600)               420600    \n",
      "_________________________________________________________________\n",
      "hiddenlayer5 (Dense)         (None, 500)               300500    \n",
      "_________________________________________________________________\n",
      "hiddenlayer6 (Dense)         (None, 400)               200400    \n",
      "_________________________________________________________________\n",
      "hiddenlayer7 (Dense)         (None, 300)               120300    \n",
      "_________________________________________________________________\n",
      "hiddenlayer8 (Dense)         (None, 200)               60200     \n",
      "_________________________________________________________________\n",
      "hiddenlayer9 (Dense)         (None, 100)               20100     \n",
      "_________________________________________________________________\n",
      "hiddenlayer10 (Dense)        (None, 50)                5050      \n",
      "_________________________________________________________________\n",
      "outputlayer (Dense)          (None, 10)                510       \n",
      "=================================================================\n",
      "Total params: 4,095,060\n",
      "Trainable params: 4,095,060\n",
      "Non-trainable params: 0\n",
      "_________________________________________________________________\n"
     ]
    }
   ],
   "source": [
    "model.summary()"
   ]
  },
  {
   "cell_type": "code",
   "execution_count": 25,
   "id": "fa9fa92c",
   "metadata": {
    "execution": {
     "iopub.execute_input": "2023-04-10T07:56:38.273855Z",
     "iopub.status.busy": "2023-04-10T07:56:38.273580Z",
     "iopub.status.idle": "2023-04-10T07:58:19.236911Z",
     "shell.execute_reply": "2023-04-10T07:58:19.235824Z"
    },
    "papermill": {
     "duration": 100.976635,
     "end_time": "2023-04-10T07:58:19.239089",
     "exception": false,
     "start_time": "2023-04-10T07:56:38.262454",
     "status": "completed"
    },
    "tags": []
   },
   "outputs": [
    {
     "name": "stdout",
     "output_type": "stream",
     "text": [
      "Epoch 1/40\n",
      "1313/1313 [==============================] - 8s 4ms/step - loss: 0.4537 - accuracy: 0.8908\n",
      "Epoch 2/40\n",
      "1313/1313 [==============================] - 5s 4ms/step - loss: 0.2403 - accuracy: 0.9483\n",
      "Epoch 3/40\n",
      "1313/1313 [==============================] - 5s 4ms/step - loss: 0.1847 - accuracy: 0.9600\n",
      "Epoch 4/40\n",
      "1313/1313 [==============================] - 5s 4ms/step - loss: 0.1518 - accuracy: 0.9676\n",
      "Epoch 5/40\n",
      "1313/1313 [==============================] - 5s 4ms/step - loss: 0.1526 - accuracy: 0.9684\n",
      "Epoch 6/40\n",
      "1313/1313 [==============================] - 6s 5ms/step - loss: 0.1367 - accuracy: 0.9704\n",
      "Epoch 7/40\n",
      "1313/1313 [==============================] - 5s 4ms/step - loss: 0.1438 - accuracy: 0.9706\n",
      "Epoch 8/40\n",
      "1313/1313 [==============================] - 5s 4ms/step - loss: 0.1171 - accuracy: 0.9754\n",
      "Epoch 9/40\n",
      "1313/1313 [==============================] - 5s 4ms/step - loss: 0.1356 - accuracy: 0.9734\n",
      "Epoch 10/40\n",
      "1313/1313 [==============================] - 5s 4ms/step - loss: 0.1755 - accuracy: 0.9627\n",
      "Epoch 11/40\n",
      "1313/1313 [==============================] - 5s 4ms/step - loss: 0.1159 - accuracy: 0.9729\n",
      "Epoch 12/40\n",
      "1313/1313 [==============================] - 6s 4ms/step - loss: 0.1053 - accuracy: 0.9772\n",
      "Epoch 13/40\n",
      "1313/1313 [==============================] - 5s 4ms/step - loss: 0.1527 - accuracy: 0.9685\n",
      "Epoch 14/40\n",
      "1313/1313 [==============================] - 5s 4ms/step - loss: 0.1118 - accuracy: 0.9755\n",
      "Epoch 15/40\n",
      "1313/1313 [==============================] - 5s 4ms/step - loss: 0.0917 - accuracy: 0.9815\n",
      "Epoch 16/40\n",
      "1313/1313 [==============================] - 5s 4ms/step - loss: 0.1075 - accuracy: 0.9793\n",
      "Epoch 17/40\n",
      "1313/1313 [==============================] - 5s 4ms/step - loss: 0.1165 - accuracy: 0.9749\n",
      "Epoch 18/40\n",
      "1313/1313 [==============================] - 6s 4ms/step - loss: 0.1150 - accuracy: 0.9748\n"
     ]
    }
   ],
   "source": [
    "reset_graph(seed=9)\n",
    "\n",
    "model.compile(loss='categorical_crossentropy', optimizer='Adam', metrics=['accuracy'])\n",
    "\n",
    "model_training = model.fit(X_train, y_train_k, epochs=40, callbacks=[callback])"
   ]
  },
  {
   "cell_type": "code",
   "execution_count": 26,
   "id": "be840edb",
   "metadata": {
    "execution": {
     "iopub.execute_input": "2023-04-10T07:58:19.459942Z",
     "iopub.status.busy": "2023-04-10T07:58:19.459602Z",
     "iopub.status.idle": "2023-04-10T07:59:03.572693Z",
     "shell.execute_reply": "2023-04-10T07:59:03.571694Z"
    },
    "papermill": {
     "duration": 44.226497,
     "end_time": "2023-04-10T07:59:03.575212",
     "exception": false,
     "start_time": "2023-04-10T07:58:19.348715",
     "status": "completed"
    },
    "tags": []
   },
   "outputs": [],
   "source": [
    "#testing\n",
    "test_pred = model.predict(data_test).argmax(axis=-1)"
   ]
  },
  {
   "cell_type": "code",
   "execution_count": 27,
   "id": "6cbe8035",
   "metadata": {
    "execution": {
     "iopub.execute_input": "2023-04-10T07:59:03.793436Z",
     "iopub.status.busy": "2023-04-10T07:59:03.793050Z",
     "iopub.status.idle": "2023-04-10T07:59:03.800098Z",
     "shell.execute_reply": "2023-04-10T07:59:03.798908Z"
    },
    "papermill": {
     "duration": 0.11907,
     "end_time": "2023-04-10T07:59:03.802277",
     "exception": false,
     "start_time": "2023-04-10T07:59:03.683207",
     "status": "completed"
    },
    "tags": []
   },
   "outputs": [
    {
     "data": {
      "text/plain": [
       "array([2, 0, 9, ..., 3, 9, 2])"
      ]
     },
     "execution_count": 27,
     "metadata": {},
     "output_type": "execute_result"
    }
   ],
   "source": [
    "test_pred"
   ]
  },
  {
   "cell_type": "code",
   "execution_count": 28,
   "id": "3170adb2",
   "metadata": {
    "execution": {
     "iopub.execute_input": "2023-04-10T07:59:04.015904Z",
     "iopub.status.busy": "2023-04-10T07:59:04.015544Z",
     "iopub.status.idle": "2023-04-10T07:59:04.025782Z",
     "shell.execute_reply": "2023-04-10T07:59:04.024587Z"
    },
    "papermill": {
     "duration": 0.121829,
     "end_time": "2023-04-10T07:59:04.029318",
     "exception": false,
     "start_time": "2023-04-10T07:59:03.907489",
     "status": "completed"
    },
    "tags": []
   },
   "outputs": [
    {
     "data": {
      "text/html": [
       "<div>\n",
       "<style scoped>\n",
       "    .dataframe tbody tr th:only-of-type {\n",
       "        vertical-align: middle;\n",
       "    }\n",
       "\n",
       "    .dataframe tbody tr th {\n",
       "        vertical-align: top;\n",
       "    }\n",
       "\n",
       "    .dataframe thead th {\n",
       "        text-align: right;\n",
       "    }\n",
       "</style>\n",
       "<table border=\"1\" class=\"dataframe\">\n",
       "  <thead>\n",
       "    <tr style=\"text-align: right;\">\n",
       "      <th></th>\n",
       "      <th>ImageId</th>\n",
       "      <th>Label</th>\n",
       "    </tr>\n",
       "  </thead>\n",
       "  <tbody>\n",
       "    <tr>\n",
       "      <th>0</th>\n",
       "      <td>1</td>\n",
       "      <td>2</td>\n",
       "    </tr>\n",
       "    <tr>\n",
       "      <th>1</th>\n",
       "      <td>2</td>\n",
       "      <td>0</td>\n",
       "    </tr>\n",
       "    <tr>\n",
       "      <th>2</th>\n",
       "      <td>3</td>\n",
       "      <td>9</td>\n",
       "    </tr>\n",
       "    <tr>\n",
       "      <th>3</th>\n",
       "      <td>4</td>\n",
       "      <td>9</td>\n",
       "    </tr>\n",
       "    <tr>\n",
       "      <th>4</th>\n",
       "      <td>5</td>\n",
       "      <td>3</td>\n",
       "    </tr>\n",
       "  </tbody>\n",
       "</table>\n",
       "</div>"
      ],
      "text/plain": [
       "   ImageId  Label\n",
       "0        1      2\n",
       "1        2      0\n",
       "2        3      9\n",
       "3        4      9\n",
       "4        5      3"
      ]
     },
     "execution_count": 28,
     "metadata": {},
     "output_type": "execute_result"
    }
   ],
   "source": [
    "data_submission.Label = test_pred\n",
    "data_submission.head()"
   ]
  },
  {
   "cell_type": "code",
   "execution_count": 29,
   "id": "f24caa74",
   "metadata": {
    "execution": {
     "iopub.execute_input": "2023-04-10T07:59:04.254429Z",
     "iopub.status.busy": "2023-04-10T07:59:04.254047Z",
     "iopub.status.idle": "2023-04-10T07:59:04.286861Z",
     "shell.execute_reply": "2023-04-10T07:59:04.285922Z"
    },
    "papermill": {
     "duration": 0.148791,
     "end_time": "2023-04-10T07:59:04.289169",
     "exception": false,
     "start_time": "2023-04-10T07:59:04.140378",
     "status": "completed"
    },
    "tags": []
   },
   "outputs": [],
   "source": [
    "data_submission.to_csv(\"data_submission.csv\", index=False, header=True)"
   ]
  }
 ],
 "metadata": {
  "kernelspec": {
   "display_name": "Python 3",
   "language": "python",
   "name": "python3"
  },
  "language_info": {
   "codemirror_mode": {
    "name": "ipython",
    "version": 3
   },
   "file_extension": ".py",
   "mimetype": "text/x-python",
   "name": "python",
   "nbconvert_exporter": "python",
   "pygments_lexer": "ipython3",
   "version": "3.7.12"
  },
  "papermill": {
   "default_parameters": {},
   "duration": 175.582229,
   "end_time": "2023-04-10T07:59:07.722401",
   "environment_variables": {},
   "exception": null,
   "input_path": "__notebook__.ipynb",
   "output_path": "__notebook__.ipynb",
   "parameters": {},
   "start_time": "2023-04-10T07:56:12.140172",
   "version": "2.3.4"
  }
 },
 "nbformat": 4,
 "nbformat_minor": 5
}
